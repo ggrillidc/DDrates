{
 "cells": [
  {
   "cell_type": "markdown",
   "metadata": {},
   "source": [
    "# DMrates\n",
    "\n",
    "This is a python code for calculating the rates for nuclear recoil, Migdal effect and photon Bremsstrahlung for liquid argon detectors using the Standard Halo Model.\n",
    "\n",
    "### Features\n",
    "\n",
    "- Spin-independent dark matter - nucleus scattering for liquid argon (LAr) detectors;\n",
    "- Migdal effect and photon Bremsstrahlung for liquid argon detectors;\n",
    "\n",
    "### Contents\n",
    "\n",
    "- 'data/bremsstrahlung' - Contains the data for the X-ray form factors, from https://physics.nist.gov/PhysRefData/FFast/html/form.html;\n",
    "- 'data/DarkSide50' - Contains the data for the calibration curve to convert electron or nuclear recoil spectra to ionization spectra in LAr underground detectors, from 1802.06994 and 1802.06998;\n",
    "- 'data/Migdal' - Contains the differential transition probabilities for argon, from 1707.07258;\n",
    "- 'src' - Python files to compute the nuclear recoil, Migdal and Bremsstrahlung rates, plus an example jupyter notebook.\n",
    "\n",
    "### Requirements\n",
    "\n",
    "- numpy\n",
    "- scipy\n",
    "- numericalunits\n",
    "- pandas\n",
    "\n",
    "### Citing DMrates\n",
    "\n",
    "If you use the code, please cite:\n",
    "\n",
    "Grilli di Cortona G.,  Messina A., and Piacentini S. \"Migdal effect and photon Bremsstrahlung: improving the sensitivity to light dark matter with LAr\", arXiv:2006.xxxxx\n",
    "\n",
    "as well as all the relevant articles for each module, listed in the files References.txt in the data/$<$name$>$ folder.\n",
    "\n",
    "### Authors\n",
    "\n",
    "The author of this code is Giovanni Grilli di Cortona.\n",
    "\n",
    "For questions, bug reports or suggestions please contact [ggrillidc@fuw.edu.pl](mailto:ggrillidc@fuw.edu.pl)\n"
   ]
  },
  {
   "cell_type": "code",
   "execution_count": 1,
   "metadata": {},
   "outputs": [
    {
     "name": "stdout",
     "output_type": "stream",
     "text": [
      "Using matplotlib backend: MacOSX\n"
     ]
    }
   ],
   "source": [
    "%matplotlib\n",
    "import matplotlib.pyplot as plt\n",
    "import matplotlib\n",
    "import numpy as np\n",
    "import numericalunits as nu\n",
    "import DM_NR as NR\n",
    "import DM_MigdalEffect as ME\n",
    "import DM_bremsstrahlung as BR\n",
    "from matplotlib.ticker import (MultipleLocator, FormatStrFormatter,\n",
    "                               AutoMinorLocator)\n",
    "import matplotlib.ticker as ticker"
   ]
  },
  {
   "cell_type": "markdown",
   "metadata": {},
   "source": [
    "# Plot: nuclear recoil spectra"
   ]
  },
  {
   "cell_type": "code",
   "execution_count": 2,
   "metadata": {},
   "outputs": [],
   "source": [
    "Nes = np.linspace(0.5, 49.5, 50)\n",
    "rs0=[]\n",
    "for Ne in Nes:\n",
    "    rs0.append(NR.rateN_NR(Ne,mDM=2.5 * nu.GeV/nu.c0**2,sigma_nucleon=1e-40 * nu.cm**2))\n",
    "    \n",
    "rs0 = np.array(rs0)   \n",
    "\n",
    "rs02=[]\n",
    "for Ne in Nes:\n",
    "    rs02.append(NR.rateN_NR(Ne,mDM=5.0 * nu.GeV/nu.c0**2,sigma_nucleon=1e-40 * nu.cm**2))\n",
    "    \n",
    "rs02 = np.array(rs02)\n",
    "\n",
    "rs03=[]\n",
    "for Ne in Nes:\n",
    "    rs03.append(NR.rateN_NR(Ne,mDM=10.0 * nu.GeV/nu.c0**2,sigma_nucleon=1e-40 * nu.cm**2))\n",
    "    \n",
    "rs03 = np.array(rs03)\n"
   ]
  },
  {
   "cell_type": "code",
   "execution_count": 3,
   "metadata": {},
   "outputs": [
    {
     "data": {
      "text/plain": [
       "Text(25, 5.0, '$\\\\sigma=10^{-40}$ cm$^2$')"
      ]
     },
     "execution_count": 3,
     "metadata": {},
     "output_type": "execute_result"
    }
   ],
   "source": [
    "fig, ax = plt.subplots()\n",
    "ax.axvline(x=4, ymin=1e-10, ymax=1e10,color='gray',ls='--')\n",
    "ax.axvline(x=7, ymin=1e-10, ymax=1e10,color='gray',ls='--')\n",
    "ax.plot(Nes , rs0 * (nu.kg * nu.day), color='blue', label='$m_{DM}$ = 2.5 GeV')\n",
    "ax.plot(Nes , rs02 * (nu.kg * nu.day), color='orange',ls='-', label='$m_{DM}$ = 5.0 GeV')\n",
    "ax.plot(Nes , rs03 * (nu.kg * nu.day), color='red',ls='-', label='$m_{DM}$ = 10.0 GeV')\n",
    "ax.set_title('Nuclear recoil spectra')\n",
    "ax.set_xlim(0, 50)\n",
    "ax.set_ylim(1e-3, 1e1)\n",
    "ax.set_xscale('linear')\n",
    "ax.set_xticks(np.arange(0, 51, step=10))\n",
    "ax.get_xaxis().set_major_formatter(matplotlib.ticker.ScalarFormatter())\n",
    "ax.get_xaxis().set_minor_locator(MultipleLocator(2))\n",
    "ax.set_yscale('log')\n",
    "ax.set_xlabel('$N_{e^-}$', fontsize='large')\n",
    "ax.set_ylabel('dR/d$N_{e^-}$  [(kg day)$^{-1}$]', fontsize='large')\n",
    "legend = plt.legend(loc='upper right', shadow=True, fontsize='medium')\n",
    "ax.text(25, 5e0, '$\\sigma=10^{-40}$ cm$^2$', {'color': 'black', 'fontsize': 12}, va=\"top\", ha=\"right\")"
   ]
  },
  {
   "cell_type": "markdown",
   "metadata": {},
   "source": [
    "# Plot: Migdal spectra"
   ]
  },
  {
   "cell_type": "code",
   "execution_count": 4,
   "metadata": {},
   "outputs": [],
   "source": [
    "Nes = np.linspace(0.5, 49.5, 50)\n",
    "rs=[]\n",
    "for Ne in Nes:\n",
    "    rs.append(ME.rate_migdalN(Ne,mDM=1.0 * nu.GeV/nu.c0**2,sigma_nucleon=1e-35 * nu.cm**2,nstate=12))\n",
    "    \n",
    "rs = np.array(rs)   \n",
    "\n",
    "rs2=[]\n",
    "for Ne in Nes:\n",
    "    rs2.append(ME.rate_migdalN(Ne,mDM=1.0 * nu.GeV/nu.c0**2,sigma_nucleon=1e-35 * nu.cm**2,nstate=3))\n",
    "    \n",
    "rs2 = np.array(rs2)\n",
    "\n",
    "rs3=[]\n",
    "for Ne in Nes:\n",
    "    rs3.append(ME.rate_migdalN(Ne,mDM=0.5 * nu.GeV/nu.c0**2,sigma_nucleon=1e-35 * nu.cm**2,nstate=12))\n",
    "    \n",
    "rs3 = np.array(rs3)   \n",
    "\n",
    "rs4=[]\n",
    "for Ne in Nes:\n",
    "    rs4.append(ME.rate_migdalN(Ne,mDM=0.5 * nu.GeV/nu.c0**2,sigma_nucleon=1e-35 * nu.cm**2,nstate=3))\n",
    "    \n",
    "rs4 = np.array(rs4)\n"
   ]
  },
  {
   "cell_type": "code",
   "execution_count": 5,
   "metadata": {},
   "outputs": [
    {
     "data": {
      "text/plain": [
       "Text(25, 5.0, '$\\\\sigma=10^{-35}$ cm$^2$')"
      ]
     },
     "execution_count": 5,
     "metadata": {},
     "output_type": "execute_result"
    }
   ],
   "source": [
    "fig, ax = plt.subplots()\n",
    "ax.axvline(x=4, ymin=1e-10, ymax=1e10,color='gray',ls='--')\n",
    "ax.axvline(x=7, ymin=1e-10, ymax=1e10,color='gray',ls='--')\n",
    "ax.plot(Nes , rs * (nu.kg * nu.day), color='blue', label='$m_{DM}$ = 1.0 GeV, n=1,2')\n",
    "ax.plot(Nes , rs2 * (nu.kg * nu.day), color='blue',ls='--', label='$m_{DM}$ = 1.0 GeV, n=3')\n",
    "ax.plot(Nes , rs3 * (nu.kg * nu.day), color='orange', label='$m_{DM}$ = 0.5 GeV, n=1,2')\n",
    "ax.plot(Nes, rs4 * (nu.kg * nu.day), color='orange',ls='--', label='$m_{DM}$ = 0.5 GeV, n=3')\n",
    "ax.set_title('Migdal spectra')\n",
    "ax.set_xlim(0, 50)\n",
    "ax.set_ylim(1e-3, 1e1)\n",
    "ax.set_xscale('linear')\n",
    "ax.set_xticks(np.arange(0, 51, step=10))\n",
    "ax.get_xaxis().set_major_formatter(matplotlib.ticker.ScalarFormatter())\n",
    "ax.get_xaxis().set_minor_locator(MultipleLocator(2))\n",
    "ax.set_yscale('log')\n",
    "ax.set_xlabel('$N_{e^-}$', fontsize='large')\n",
    "ax.set_ylabel('dR/d$N_{e^-}$  [(kg day)$^{-1}$]', fontsize='large')\n",
    "legend = plt.legend(loc='upper right', shadow=True, fontsize='medium')\n",
    "ax.text(25, 5e0, '$\\sigma=10^{-35}$ cm$^2$', {'color': 'black', 'fontsize': 12}, va=\"top\", ha=\"right\")"
   ]
  },
  {
   "cell_type": "markdown",
   "metadata": {},
   "source": [
    "# Plot: Bremsstrahlung spectra"
   ]
  },
  {
   "cell_type": "code",
   "execution_count": 6,
   "metadata": {},
   "outputs": [],
   "source": [
    "Nes = np.linspace(0.5, 49.5, 50)\n",
    "rs5=[]\n",
    "for Ne in Nes:\n",
    "    rs5.append(BR.rate_bremsstrahlungN(Ne,mDM=0.5 * nu.GeV/nu.c0**2,sigma_nucleon=1e-31 * nu.cm**2))\n",
    "    \n",
    "rs5 = np.array(rs5)   \n",
    "\n",
    "\n",
    "rs6=[]\n",
    "for Ne in Nes:\n",
    "    rs6.append(BR.rate_bremsstrahlungN(Ne,mDM=1.0 * nu.GeV/nu.c0**2,sigma_nucleon=1e-31 * nu.cm**2))\n",
    "    \n",
    "rs6 = np.array(rs6) \n",
    "\n",
    "\n"
   ]
  },
  {
   "cell_type": "code",
   "execution_count": 7,
   "metadata": {},
   "outputs": [
    {
     "data": {
      "text/plain": [
       "Text(25, 5, '$\\\\sigma=10^{-31}$ cm$^2$')"
      ]
     },
     "execution_count": 7,
     "metadata": {},
     "output_type": "execute_result"
    }
   ],
   "source": [
    "fig, ax = plt.subplots()\n",
    "ax.axvline(x=4, ymin=1e-10, ymax=1e10,color='gray',ls='--')\n",
    "ax.axvline(x=7, ymin=1e-10, ymax=1e10,color='gray',ls='--')\n",
    "ax.plot(Nes , rs5 * (nu.kg * nu.day), color='orange', label='$m_{DM}$ = 0.5 GeV')\n",
    "ax.plot(Nes , rs6 * (nu.kg * nu.day), color='blue', label='$m_{DM}$ = 1 GeV')\n",
    "ax.set_title('Bremsstrahlung spectra')\n",
    "ax.set_xlim(0, 50)\n",
    "ax.set_ylim(1e-3, 1e1)\n",
    "ax.set_xscale('linear')\n",
    "ax.set_xticks(np.arange(0, 51, step=10))\n",
    "ax.get_xaxis().set_major_formatter(matplotlib.ticker.ScalarFormatter())\n",
    "ax.get_xaxis().set_minor_locator(MultipleLocator(2))\n",
    "ax.set_yscale('log')\n",
    "ax.set_xlabel('$N_{e^-}$', fontsize='large')\n",
    "ax.set_ylabel('dR/d$N_{e^-}$  [(tonne year)$^{-1}$]', fontsize='large')\n",
    "legend = plt.legend(loc='upper right', shadow=True, fontsize='medium')\n",
    "ax.text(25, 5, '$\\sigma=10^{-31}$ cm$^2$', {'color': 'black', 'fontsize': 12}, va=\"top\", ha=\"right\")"
   ]
  },
  {
   "cell_type": "code",
   "execution_count": null,
   "metadata": {},
   "outputs": [],
   "source": []
  }
 ],
 "metadata": {
  "kernelspec": {
   "display_name": "Python 3",
   "language": "python",
   "name": "python3"
  },
  "language_info": {
   "codemirror_mode": {
    "name": "ipython",
    "version": 3
   },
   "file_extension": ".py",
   "mimetype": "text/x-python",
   "name": "python",
   "nbconvert_exporter": "python",
   "pygments_lexer": "ipython3",
   "version": "3.7.2"
  }
 },
 "nbformat": 4,
 "nbformat_minor": 2
}
